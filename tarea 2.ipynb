{
 "cells": [
  {
   "cell_type": "code",
   "execution_count": 10,
   "metadata": {},
   "outputs": [],
   "source": [
    "#!pip install mip\n",
    "from gurobipy import *\n",
    "import numpy as np\n",
    "import time\n",
    "from collections import defaultdict\n",
    "import matplotlib.pyplot as plt\n",
    "import pandas as pd\n",
    "from scipy.stats import norm\n",
    "from scipy.stats import poisson\n",
    "import math\n",
    "from itertools import product\n",
    "from mip import Model, BINARY\n",
    "import matplotlib.patches as mpatches\n",
    "\n"
   ]
  },
  {
   "cell_type": "markdown",
   "metadata": {},
   "source": [
    "# Pregunta 1a"
   ]
  },
  {
   "cell_type": "code",
   "execution_count": 11,
   "metadata": {},
   "outputs": [
    {
     "name": "stdout",
     "output_type": "stream",
     "text": [
      "Cantidad promedio demanda alta 41\n",
      "Promedio de ingreso total: 10156.4\n",
      "Promedio de habitaciones vendidas con tarifa alta: 40\n",
      "Promedio de habitaciones vendidas con tarifa baja: 61\n",
      "Promedio de overstock (habitaciones que sobraron): 2\n",
      "Promedio de understock (habitaciones que faltaron): 1\n"
     ]
    }
   ],
   "source": [
    "p1 = 150  \n",
    "p2 = 70  \n",
    "media_demanda_alta = 40\n",
    "varianza_demanda_alta = 10\n",
    "std_demanda_alta = np.sqrt(varianza_demanda_alta)\n",
    "num_habitaciones = 100\n",
    "N = 2000 \n",
    "\n",
    "q = 1 - (p2 / p1)\n",
    "\n",
    "y1_optimo = norm.ppf(q, loc=media_demanda_alta, scale=std_demanda_alta)\n",
    "y1_optimo = math.ceil(y1_optimo)\n",
    "\n",
    "\n",
    "ingreso_total = []\n",
    "vendidas_tarifa_alta = []\n",
    "vendidas_tarifa_baja = []\n",
    "overstock_tarifa_alta = []\n",
    "understock_tarifa_alta = []\n",
    "\n",
    "for i in range(N):\n",
    "    demanda_alta = np.random.normal(media_demanda_alta, std_demanda_alta)\n",
    "\n",
    "    demanda_alta = max(0, min(demanda_alta, num_habitaciones))\n",
    "    \n",
    "    vendidas_alta = min(demanda_alta, y1_optimo)\n",
    "    vendidas_alta = math.ceil(vendidas_alta)\n",
    "    \n",
    "    vendidas_baja = num_habitaciones - vendidas_alta\n",
    "    vendidas_baja = math.ceil(vendidas_baja)\n",
    "    \n",
    "    ingreso = vendidas_alta * p1 + vendidas_baja * p2\n",
    "    \n",
    "    overstock = max(0, y1_optimo - demanda_alta)\n",
    "    understock = max(0, demanda_alta - y1_optimo)\n",
    "    \n",
    "    ingreso_total.append(ingreso)\n",
    "    vendidas_tarifa_alta.append(vendidas_alta)\n",
    "    vendidas_tarifa_baja.append(vendidas_baja)\n",
    "    overstock_tarifa_alta.append(overstock)\n",
    "    understock_tarifa_alta.append(understock)\n",
    "\n",
    "promedio_ingreso_total = np.mean(ingreso_total)\n",
    "promedio_vendidas_tarifa_alta = np.mean(vendidas_tarifa_alta)\n",
    "promedio_vendidas_tarifa_alta = math.ceil(promedio_vendidas_tarifa_alta)\n",
    "promedio_vendidas_tarifa_baja = np.mean(vendidas_tarifa_baja)\n",
    "promedio_vendidas_tarifa_baja = math.ceil(promedio_vendidas_tarifa_baja)\n",
    "promedio_overstock = np.mean(overstock_tarifa_alta)\n",
    "promedio_overstock = math.ceil(promedio_overstock)\n",
    "promedio_understock = np.mean(understock_tarifa_alta)\n",
    "promedio_understock = math.ceil(promedio_understock)\n",
    "\n",
    "print(f\"Cantidad promedio demanda alta\", y1_optimo)\n",
    "print(f\"Promedio de ingreso total:\", promedio_ingreso_total)\n",
    "print(f\"Promedio de habitaciones vendidas con tarifa alta:\", promedio_vendidas_tarifa_alta)\n",
    "print(f\"Promedio de habitaciones vendidas con tarifa baja:\", promedio_vendidas_tarifa_baja)\n",
    "print(f\"Promedio de overstock (habitaciones que sobraron):\", promedio_overstock)\n",
    "print(f\"Promedio de understock (habitaciones que faltaron):\", promedio_understock)\n"
   ]
  },
  {
   "cell_type": "markdown",
   "metadata": {},
   "source": [
    "# Pregunta 1b"
   ]
  },
  {
   "cell_type": "code",
   "execution_count": 12,
   "metadata": {},
   "outputs": [
    {
     "name": "stdout",
     "output_type": "stream",
     "text": [
      "Cantidad promedio demanda alta 40\n",
      "Promedio de ingreso total: 10000.64\n",
      "Promedio de habitaciones vendidas con tarifa alta: 38\n",
      "Promedio de habitaciones vendidas con tarifa baja: 63\n",
      "Promedio de overstock (habitaciones que sobraron): 3\n",
      "Promedio de understock (habitaciones que faltaron): 3\n"
     ]
    }
   ],
   "source": [
    "# Parámetros del problema\n",
    "p1 = 150  # Precio tarifa alta\n",
    "p2 = 70   # Precio tarifa baja\n",
    "media_demanda_alta = 40\n",
    "varianza_demanda_alta = 10\n",
    "std_dev_demanda_alta = np.sqrt(varianza_demanda_alta)\n",
    "num_habitaciones = 100\n",
    "N = 2000  # Número de simulaciones\n",
    "\n",
    "# Calcular el percentil a partir de la regla de Littlewood\n",
    "q = 1 - (p2 / p1)\n",
    "\n",
    "# Usar la inversa de la distribución normal acumulada para obtener el corte óptimo\n",
    "y1_optimo = poisson.ppf(q, mu=media_demanda_alta)\n",
    "y1_optimo = math.ceil(y1_optimo)\n",
    "\n",
    "\n",
    "# Simulaciones\n",
    "ingreso_total = []\n",
    "vendidas_tarifa_alta = []\n",
    "vendidas_tarifa_baja = []\n",
    "overstock_tarifa_alta = []\n",
    "understock_tarifa_alta = []\n",
    "\n",
    "for _ in range(N):\n",
    "    # Simular demanda para la tarifa alta y baja\n",
    "    demanda_alta = np.random.poisson(media_demanda_alta)\n",
    "    \n",
    "    # Limitar la demanda a valores posibles\n",
    "    demanda_alta = max(0, min(demanda_alta, num_habitaciones))\n",
    "    \n",
    "    # Si la demanda para la tarifa alta es mayor que el corte, se venden esas habitaciones\n",
    "    vendidas_alta = min(demanda_alta, y1_optimo)\n",
    "    vendidas_alta = math.ceil(vendidas_alta)\n",
    "    \n",
    "    # El resto de habitaciones se venden a tarifa baja\n",
    "    vendidas_baja = num_habitaciones - vendidas_alta\n",
    "    vendidas_baja = math.ceil(vendidas_baja)\n",
    "    \n",
    "    # Calcular el ingreso total\n",
    "    ingreso = vendidas_alta * p1 + vendidas_baja * p2\n",
    "    \n",
    "    # Calcular overstock y understock\n",
    "    overstock = max(0, y1_optimo - demanda_alta)\n",
    "    understock = max(0, demanda_alta - y1_optimo)\n",
    "    \n",
    "    # Guardar resultados en listas\n",
    "    ingreso_total.append(ingreso)\n",
    "    vendidas_tarifa_alta.append(vendidas_alta)\n",
    "    vendidas_tarifa_baja.append(vendidas_baja)\n",
    "    overstock_tarifa_alta.append(overstock)\n",
    "    understock_tarifa_alta.append(understock)\n",
    "\n",
    "# Calcular promedios de las métricas\n",
    "promedio_ingreso_total = np.mean(ingreso_total)\n",
    "promedio_vendidas_tarifa_alta = np.mean(vendidas_tarifa_alta)\n",
    "promedio_vendidas_tarifa_alta = math.ceil(promedio_vendidas_tarifa_alta)\n",
    "promedio_vendidas_tarifa_baja = np.mean(vendidas_tarifa_baja)\n",
    "promedio_vendidas_tarifa_baja = math.ceil(promedio_vendidas_tarifa_baja)\n",
    "promedio_overstock = np.mean(overstock_tarifa_alta)\n",
    "promedio_overstock = math.ceil(promedio_overstock)\n",
    "promedio_understock = np.mean(understock_tarifa_alta)\n",
    "promedio_understock = math.ceil(promedio_understock)\n",
    "\n",
    "# Reporte de resultados\n",
    "print(f\"Cantidad promedio demanda alta\", y1_optimo)\n",
    "print(f\"Promedio de ingreso total:\", promedio_ingreso_total)\n",
    "print(f\"Promedio de habitaciones vendidas con tarifa alta:\", promedio_vendidas_tarifa_alta)\n",
    "print(f\"Promedio de habitaciones vendidas con tarifa baja:\", promedio_vendidas_tarifa_baja)\n",
    "print(f\"Promedio de overstock (habitaciones que sobraron):\", promedio_overstock)\n",
    "print(f\"Promedio de understock (habitaciones que faltaron):\", promedio_understock)\n"
   ]
  },
  {
   "cell_type": "markdown",
   "metadata": {},
   "source": [
    "## Pregunta 2a ##"
   ]
  },
  {
   "cell_type": "code",
   "execution_count": 23,
   "metadata": {},
   "outputs": [
    {
     "name": "stdout",
     "output_type": "stream",
     "text": [
      "  Tarifa  Precio  Demanda esperada  Varianza  Asientos reservados\n",
      "0      E      80                20         6                 23.0\n",
      "1      G      70                15         2                 36.0\n",
      "2      D      50                 5         3                 40.0\n",
      "3      F      40                30         5                 21.0\n"
     ]
    }
   ],
   "source": [
    "\n",
    "# Definimos la función EMSR-B que recibe los parámetros especificados.\n",
    "def EMSR_B(C, q, mu, var):\n",
    "    \"\"\"\n",
    "    EMSR-B calcula la cantidad de asientos que se deben reservar para cada tarifa\n",
    "    teniendo en cuenta que la demanda sigue una distribución normal y priorizando\n",
    "    las tarifas más caras.\n",
    "    \n",
    "    Parámetros:\n",
    "    - C (int): Capacidad total de asientos.\n",
    "    - q (list): Lista de precios de tarifas en orden descendente.\n",
    "    - mu (list): Lista de demandas esperadas para cada tarifa.\n",
    "    - var (list): Lista de varianzas para cada tarifa.\n",
    "    \n",
    "    Retorna:\n",
    "    - R (list): Lista de asientos reservados para cada tarifa.\n",
    "    \"\"\"\n",
    "    n = len(q)  # Número de niveles tarifarios\n",
    "    R = np.zeros(n)  # arreglo de reservas\n",
    "    \n",
    "    # Iteración sobre cada tarifa (excepto la última, que toma el resto de los asientos)\n",
    "    for i in range(n - 1):\n",
    "        # Ponderamos la tarifa considerando desde la tarifa actual hasta la más cara\n",
    "        f_barra = np.sum([q[j] * mu[j] for j in range(i + 1)]) / np.sum([mu[j] for j in range(i + 1)])\n",
    "        \n",
    "        # Desviación estándar de la demanda\n",
    "        sigma = np.sqrt(np.sum([var[j] for j in range(i + 1)]))\n",
    "        \n",
    "        # Calculamos la probabilidad Z en función de las tarifas actuales y futuras\n",
    "        Z = max(0, min(1, (f_barra - q[i + 1]) / f_barra))\n",
    "        \n",
    "        # Calculamos el percentil de la normal para el nivel de reservas\n",
    "        B_i = norm.ppf(1 - Z) * sigma + np.sum(mu[:i + 1])\n",
    "        \n",
    "        # Aseguramos que el número de asientos reservados no sea negativo\n",
    "        R[i] = max(0, B_i)\n",
    "    \n",
    "    # El último grupo de tarifas recibe el resto de los asientos disponibles\n",
    "    R[-1] = max(0, C - np.sum(R[:-1]))\n",
    "    \n",
    "    return R\n",
    "\n",
    "\n",
    "C = 120  # Capacidad total \n",
    "tarifas = ['E', 'G', 'D', 'F']  # tarifas\n",
    "prices = [80, 70, 50, 40]  # Precios de las tarifas en orden de la más cara a la más barata\n",
    "mu = [20, 15, 5, 30]  # Demandas esperadas para cada tarifa (input, aleatorio)\n",
    "var = [6, 2, 3, 5]  # Varianzas de la demanda para cada tarifa (input, aleatorio)\n",
    "\n",
    "# Llamamos a la función EMSR_B para calcular las reservas\n",
    "reservas = EMSR_B(C, prices, mu, var)\n",
    "\n",
    "# Redondeamos los resultados\n",
    "reservas_redondeadas = np.round(reservas)\n",
    "\n",
    "# Crear DataFrame con los resultados\n",
    "df_reservas = pd.DataFrame({\n",
    "    'Tarifa': tarifas,\n",
    "    'Precio': prices,\n",
    "    'Demanda esperada': mu,\n",
    "    'Varianza': var,\n",
    "    'Asientos reservados': reservas_redondeadas\n",
    "})\n",
    "\n",
    "# Mostrar el DataFrame\n",
    "print(df_reservas)\n"
   ]
  },
  {
   "cell_type": "markdown",
   "metadata": {},
   "source": [
    "## Pregunta 3"
   ]
  },
  {
   "cell_type": "code",
   "execution_count": 14,
   "metadata": {},
   "outputs": [
    {
     "name": "stdout",
     "output_type": "stream",
     "text": [
      "Se deberían aceptar 26 reservas adicionales, teniendo una nueva capacidad total de 226 boletos\n"
     ]
    }
   ],
   "source": [
    "capacidad = 200\n",
    "precio_boleto = 475\n",
    "media_noshow = 30\n",
    "std_noshow = 15\n",
    "compensacion = 800\n",
    "\n",
    "c_u = 475\n",
    "c_o = 800\n",
    "F_Y = c_u/(c_u + c_o)\n",
    "Y = norm.ppf(F_Y, loc=media_noshow, scale=std_noshow)\n",
    "Y = math.ceil(Y)\n",
    "\n",
    "print(f'Se deberían aceptar {Y} reservas adicionales, teniendo una nueva capacidad total de {capacidad + Y} boletos')"
   ]
  },
  {
   "cell_type": "code",
   "execution_count": 15,
   "metadata": {},
   "outputs": [
    {
     "name": "stdout",
     "output_type": "stream",
     "text": [
      "La probabilidad de que se tenga que compensar pasajeros es de 25.24925375469229%\n"
     ]
    }
   ],
   "source": [
    "Y = 20\n",
    "Y_comp = Y - 1 # si 19 personas o menos no se presentan, tendré gente que no podrá subirse al avión\n",
    "z = (Y-media_noshow)/std_noshow\n",
    "F_z = norm.cdf(z)\n",
    "print(f'La probabilidad de que se tenga que compensar pasajeros es de {F_z*100}%')"
   ]
  },
  {
   "cell_type": "markdown",
   "metadata": {},
   "source": [
    "## Pregunta 5"
   ]
  },
  {
   "cell_type": "markdown",
   "metadata": {},
   "source": [
    "$$ p_{ij} \\quad \\text{es el tiempo de procesamiento del trabajo } i \\text{ en la máquina } j $$\n",
    "$$ M \\quad \\text{es la cantidad de máquinas} $$\n",
    "$$ J \\quad \\text{es la cantidad de trabajos} $$\n",
    "$$ o_{r}^j \\quad \\text{es proceso en posición } r \\text{ del trabajo } j $$\n",
    "$$ O^j = (o_1^j , o_2^j , ... ) \\quad \\text{es el orden de procesamiento del trabajo } j $$\n",
    "\n",
    "### Variables de decisión:\n",
    "$$ x_{ij} \\quad \\text{es el tiempo de comienzo del trabajo } j \\text{ en la máquina } y $$\n",
    "$$ y_{ij} \\quad \\text{es 1 si el trabajo } j \\text{precede al trabajo } k \\text{en la máquina } i \\text{, y 0 si no} $$\n",
    "$$ C \\quad \\text{es el Makespan }$$"
   ]
  },
  {
   "cell_type": "code",
   "execution_count": 16,
   "metadata": {},
   "outputs": [
    {
     "name": "stdout",
     "output_type": "stream",
     "text": [
      "Set parameter Username\n",
      "Academic license - for non-commercial use only - expires 2025-08-14\n"
     ]
    }
   ],
   "source": [
    "M = 5 #columnas\n",
    "J = 8 #filas\n",
    "\n",
    "p_ij = np.array([[50, 90, 30, 60, 40],\n",
    "        [65, 35, 75, 50, 45],\n",
    "        [80, 60, 25, 70, 55],\n",
    "        [55, 40, 45, 65, 30],\n",
    "        [45, 85, 60, 35, 90],\n",
    "        [40, 70, 85, 35, 55],\n",
    "        [65, 40, 50, 75, 30],\n",
    "        [55, 45, 80, 60, 65]])\n",
    "\n",
    "Mgrande = sum(p_ij[i][j] for i in range(J) for j in range(M))\n",
    "\n",
    "O_j = np.array([[3, 1, 4, 5, 2],\n",
    "       [2, 3, 5, 1, 4],\n",
    "       [5, 2, 4, 1, 3],\n",
    "       [1, 4, 3, 2, 5],\n",
    "       [4, 3, 5, 2, 1],\n",
    "       [3, 5, 1, 4, 2],\n",
    "       [1, 3, 5, 2, 4],\n",
    "       [2, 5, 3, 4, 1]])\n",
    "\n",
    "O_jm = O_j - 1 #para que las máquinas vayan de 0 a 4\n",
    "\n",
    "model = Model('JSSP')\n",
    "\n",
    "c = model.add_var(name=\"C\")\n",
    "\n",
    "x = [[model.add_var(name='x({},{})'.format(j+1, i+1))\n",
    "      for i in range(M)] for j in range(J)]\n",
    "\n",
    "y = [[[model.add_var(var_type=BINARY, name='y({},{},{})'.format(j+1, k+1, i+1))\n",
    "       for i in range(M)] for k in range(J)] for j in range(J)]\n",
    "\n",
    "model.objective = c"
   ]
  },
  {
   "cell_type": "code",
   "execution_count": 17,
   "metadata": {},
   "outputs": [
    {
     "name": "stdout",
     "output_type": "stream",
     "text": [
      "Set parameter NodeLimit to value 1073741824\n",
      "Set parameter SolutionLimit to value 1073741824\n"
     ]
    },
    {
     "ename": "MemoryError",
     "evalue": "Cannot allocate write+execute memory for ffi.callback(). You might be running on a system that prevents this. For more information, see https://cffi.readthedocs.io/en/latest/using.html#callbacks",
     "output_type": "error",
     "traceback": [
      "\u001b[0;31m---------------------------------------------------------------------------\u001b[0m",
      "\u001b[0;31mMemoryError\u001b[0m                               Traceback (most recent call last)",
      "Cell \u001b[0;32mIn[17], line 14\u001b[0m\n\u001b[1;32m     11\u001b[0m \u001b[38;5;28;01mfor\u001b[39;00m j \u001b[38;5;129;01min\u001b[39;00m \u001b[38;5;28mrange\u001b[39m(J):\n\u001b[1;32m     12\u001b[0m     model \u001b[38;5;241m+\u001b[39m\u001b[38;5;241m=\u001b[39m c \u001b[38;5;241m-\u001b[39m x[j][O_jm[j][M \u001b[38;5;241m-\u001b[39m \u001b[38;5;241m1\u001b[39m]] \u001b[38;5;241m>\u001b[39m\u001b[38;5;241m=\u001b[39m p_ij[j][O_jm[j][M \u001b[38;5;241m-\u001b[39m \u001b[38;5;241m1\u001b[39m]] \u001b[38;5;66;03m#consistencia makespan\u001b[39;00m\n\u001b[0;32m---> 14\u001b[0m model\u001b[38;5;241m.\u001b[39moptimize()\n",
      "File \u001b[0;32m/opt/anaconda3/lib/python3.12/site-packages/mip/model.py:618\u001b[0m, in \u001b[0;36mModel.optimize\u001b[0;34m(self, max_seconds, max_nodes, max_solutions, max_seconds_same_incumbent, max_nodes_same_incumbent, relax)\u001b[0m\n\u001b[1;32m    608\u001b[0m \u001b[38;5;66;03m# self.solver.set_callbacks(branch_selector,\u001b[39;00m\n\u001b[1;32m    609\u001b[0m \u001b[38;5;66;03m# incumbent_updater, lazy_constrs_generator)\u001b[39;00m\n\u001b[1;32m    610\u001b[0m \u001b[38;5;28mself\u001b[39m\u001b[38;5;241m.\u001b[39msolver\u001b[38;5;241m.\u001b[39mset_processing_limits(\n\u001b[1;32m    611\u001b[0m     max_seconds,\n\u001b[1;32m    612\u001b[0m     max_nodes,\n\u001b[0;32m   (...)\u001b[0m\n\u001b[1;32m    615\u001b[0m     max_nodes_same_incumbent,\n\u001b[1;32m    616\u001b[0m )\n\u001b[0;32m--> 618\u001b[0m \u001b[38;5;28mself\u001b[39m\u001b[38;5;241m.\u001b[39m_status \u001b[38;5;241m=\u001b[39m \u001b[38;5;28mself\u001b[39m\u001b[38;5;241m.\u001b[39msolver\u001b[38;5;241m.\u001b[39moptimize(relax)\n\u001b[1;32m    619\u001b[0m \u001b[38;5;66;03m# has a solution\u001b[39;00m\n\u001b[1;32m    620\u001b[0m \u001b[38;5;28;01mif\u001b[39;00m (\n\u001b[1;32m    621\u001b[0m     \u001b[38;5;28mself\u001b[39m\u001b[38;5;241m.\u001b[39m_status\n\u001b[1;32m    622\u001b[0m     \u001b[38;5;129;01min\u001b[39;00m (\n\u001b[0;32m   (...)\u001b[0m\n\u001b[1;32m    626\u001b[0m     \u001b[38;5;129;01mand\u001b[39;00m \u001b[38;5;28mself\u001b[39m\u001b[38;5;241m.\u001b[39mnum_int \u001b[38;5;241m>\u001b[39m \u001b[38;5;241m0\u001b[39m\n\u001b[1;32m    627\u001b[0m ):\n",
      "File \u001b[0;32m/opt/anaconda3/lib/python3.12/site-packages/mip/gurobi.py:591\u001b[0m, in \u001b[0;36mSolverGurobi.optimize\u001b[0;34m(self, relax)\u001b[0m\n\u001b[1;32m    588\u001b[0m \u001b[38;5;28;01mdef\u001b[39;00m \u001b[38;5;21moptimize\u001b[39m(\u001b[38;5;28mself\u001b[39m, relax: \u001b[38;5;28mbool\u001b[39m \u001b[38;5;241m=\u001b[39m \u001b[38;5;28;01mFalse\u001b[39;00m) \u001b[38;5;241m-\u001b[39m\u001b[38;5;241m>\u001b[39m OptimizationStatus:\n\u001b[1;32m    589\u001b[0m \n\u001b[1;32m    590\u001b[0m     \u001b[38;5;66;03m# todo add branch_selector and incumbent_updater callbacks\u001b[39;00m\n\u001b[0;32m--> 591\u001b[0m     \u001b[38;5;129m@ffi\u001b[39m\u001b[38;5;241m.\u001b[39mcallback(\n\u001b[1;32m    592\u001b[0m \u001b[38;5;250m        \u001b[39m\u001b[38;5;124;03m\"\"\"\u001b[39;00m\n\u001b[1;32m    593\u001b[0m \u001b[38;5;124;03m    int (GRBmodel *, void *, int, void *)\u001b[39;00m\n\u001b[1;32m    594\u001b[0m \u001b[38;5;124;03m    \"\"\"\u001b[39;00m\n\u001b[1;32m    595\u001b[0m     )\n\u001b[1;32m    596\u001b[0m     \u001b[38;5;28;01mdef\u001b[39;00m \u001b[38;5;21mcallback\u001b[39m(\n\u001b[1;32m    597\u001b[0m         p_model: CData, p_cbdata: CData, where: \u001b[38;5;28mint\u001b[39m, p_usrdata: CData\n\u001b[1;32m    598\u001b[0m     ) \u001b[38;5;241m-\u001b[39m\u001b[38;5;241m>\u001b[39m \u001b[38;5;28mint\u001b[39m:\n\u001b[1;32m    600\u001b[0m         \u001b[38;5;28;01mif\u001b[39;00m \u001b[38;5;28mself\u001b[39m\u001b[38;5;241m.\u001b[39mmodel\u001b[38;5;241m.\u001b[39mstore_search_progress_log:\n\u001b[1;32m    601\u001b[0m             \u001b[38;5;28;01mif\u001b[39;00m where \u001b[38;5;241m==\u001b[39m \u001b[38;5;241m3\u001b[39m:\n",
      "File \u001b[0;32m/opt/anaconda3/lib/python3.12/site-packages/cffi/api.py:396\u001b[0m, in \u001b[0;36mFFI.callback.<locals>.callback_decorator_wrap\u001b[0;34m(python_callable)\u001b[0m\n\u001b[1;32m    393\u001b[0m \u001b[38;5;28;01mif\u001b[39;00m \u001b[38;5;129;01mnot\u001b[39;00m \u001b[38;5;28mcallable\u001b[39m(python_callable):\n\u001b[1;32m    394\u001b[0m     \u001b[38;5;28;01mraise\u001b[39;00m \u001b[38;5;167;01mTypeError\u001b[39;00m(\u001b[38;5;124m\"\u001b[39m\u001b[38;5;124mthe \u001b[39m\u001b[38;5;124m'\u001b[39m\u001b[38;5;124mpython_callable\u001b[39m\u001b[38;5;124m'\u001b[39m\u001b[38;5;124m argument \u001b[39m\u001b[38;5;124m\"\u001b[39m\n\u001b[1;32m    395\u001b[0m                     \u001b[38;5;124m\"\u001b[39m\u001b[38;5;124mis not callable\u001b[39m\u001b[38;5;124m\"\u001b[39m)\n\u001b[0;32m--> 396\u001b[0m \u001b[38;5;28;01mreturn\u001b[39;00m \u001b[38;5;28mself\u001b[39m\u001b[38;5;241m.\u001b[39m_backend\u001b[38;5;241m.\u001b[39mcallback(cdecl, python_callable,\n\u001b[1;32m    397\u001b[0m                               error, onerror)\n",
      "\u001b[0;31mMemoryError\u001b[0m: Cannot allocate write+execute memory for ffi.callback(). You might be running on a system that prevents this. For more information, see https://cffi.readthedocs.io/en/latest/using.html#callbacks"
     ]
    }
   ],
   "source": [
    "for (j, i) in product(range(J), range(1, M)):    #tiempo de comienzo = el tiempo de comienzo anterior + tiempo de procesamiento anterior\n",
    "    model += x[j][O_jm[j][i]] - x[j][O_jm[j][i-1]] >= \\\n",
    "        p_ij[j][O_jm[j][i-1]]\n",
    "\n",
    "for (j, k) in product(range(J), range(J)):\n",
    "    if k != j:\n",
    "        for i in range(M):\n",
    "            model += x[j][i] - x[k][i] + Mgrande*y[j][k][i] >= p_ij[k][i]\n",
    "            model += -x[j][i] + x[k][i] - Mgrande*y[j][k][i] >= p_ij[j][i] - Mgrande  #consistencia entre tiempo y orden (un trabajo se debe realizar antes que otro)\n",
    "\n",
    "for j in range(J):\n",
    "    model += c - x[j][O_jm[j][M - 1]] >= p_ij[j][O_jm[j][M - 1]] #consistencia makespan\n",
    "\n",
    "model.optimize()"
   ]
  },
  {
   "cell_type": "code",
   "execution_count": 6,
   "metadata": {},
   "outputs": [
    {
     "name": "stdout",
     "output_type": "stream",
     "text": [
      "Makespan:  539.9999999458989\n",
      "el trabajo 1 empieza en la máquina 1 al tiempo 55 \n",
      "el trabajo 1 empieza en la máquina 2 al tiempo 215 \n",
      "el trabajo 1 empieza en la máquina 3 al tiempo 0 \n",
      "el trabajo 1 empieza en la máquina 4 al tiempo 105 \n",
      "el trabajo 1 empieza en la máquina 5 al tiempo 175 \n",
      "el trabajo 2 empieza en la máquina 1 al tiempo 425 \n",
      "el trabajo 2 empieza en la máquina 2 al tiempo 175 \n",
      "el trabajo 2 empieza en la máquina 3 al tiempo 305 \n",
      "el trabajo 2 empieza en la máquina 4 al tiempo 490 \n",
      "el trabajo 2 empieza en la máquina 5 al tiempo 380 \n",
      "el trabajo 3 empieza en la máquina 1 al tiempo 290 \n",
      "el trabajo 3 empieza en la máquina 2 al tiempo 115 \n",
      "el trabajo 3 empieza en la máquina 3 al tiempo 515 \n",
      "el trabajo 3 empieza en la máquina 4 al tiempo 175 \n",
      "el trabajo 3 empieza en la máquina 5 al tiempo 0 \n",
      "el trabajo 4 empieza en la máquina 1 al tiempo 175 \n",
      "el trabajo 4 empieza en la máquina 2 al tiempo 430 \n",
      "el trabajo 4 empieza en la máquina 3 al tiempo 380 \n",
      "el trabajo 4 empieza en la máquina 4 al tiempo 245 \n",
      "el trabajo 4 empieza en la máquina 5 al tiempo 510 \n",
      "el trabajo 5 empieza en la máquina 1 al tiempo 490 \n",
      "el trabajo 5 empieza en la máquina 2 al tiempo 345 \n",
      "el trabajo 5 empieza en la máquina 3 al tiempo 115 \n",
      "el trabajo 5 empieza en la máquina 4 al tiempo 0 \n",
      "el trabajo 5 empieza en la máquina 5 al tiempo 255 \n",
      "el trabajo 6 empieza en la máquina 1 al tiempo 250 \n",
      "el trabajo 6 empieza en la máquina 2 al tiempo 470 \n",
      "el trabajo 6 empieza en la máquina 3 al tiempo 30 \n",
      "el trabajo 6 empieza en la máquina 4 al tiempo 380 \n",
      "el trabajo 6 empieza en la máquina 5 al tiempo 120 \n",
      "el trabajo 7 empieza en la máquina 1 al tiempo 105 \n",
      "el trabajo 7 empieza en la máquina 2 al tiempo 305 \n",
      "el trabajo 7 empieza en la máquina 3 al tiempo 175 \n",
      "el trabajo 7 empieza en la máquina 4 al tiempo 415 \n",
      "el trabajo 7 empieza en la máquina 5 al tiempo 225 \n",
      "el trabajo 8 empieza en la máquina 1 al tiempo 370 \n",
      "el trabajo 8 empieza en la máquina 2 al tiempo 0 \n",
      "el trabajo 8 empieza en la máquina 3 al tiempo 225 \n",
      "el trabajo 8 empieza en la máquina 4 al tiempo 310 \n",
      "el trabajo 8 empieza en la máquina 5 al tiempo 55 \n"
     ]
    }
   ],
   "source": [
    "print(\"Makespan: \", c.x)\n",
    "for (j, i) in product(range(J), range(M)):\n",
    "    print(\"el trabajo %d empieza en la máquina %d al tiempo %g \" % (j+1, i+1, x[j][i].x))\n"
   ]
  },
  {
   "cell_type": "code",
   "execution_count": 7,
   "metadata": {},
   "outputs": [
    {
     "data": {
      "image/png": "[encoded data removed]",
      "text/plain": [
       "<Figure size 720x432 with 1 Axes>"
      ]
     },
     "metadata": {
      "needs_background": "light"
     },
     "output_type": "display_data"
    }
   ],
   "source": [
    "def graficar_gantt(tiempos_procesamiento, num_maquinas, num_tareas):\n",
    "    \"\"\"\n",
    "    Argumentos:\n",
    "    tiempos_procesamiento : Lista de listas donde las filas son tareas y las columnas son máquinas, contiene el tiempo de procesamiento de la tarea i en la máquina j.\n",
    "    num_maquinas; Número total de máquinas\n",
    "    num_tareas; Número total de tareas\n",
    "    \"\"\"\n",
    "    tiempos_inicio = [[] for _ in range(num_maquinas)] # hacemos una matriz que entrega por máquina, cuál es el tiempo de inicio de cada tarea\n",
    "    for j in range(num_tareas): \n",
    "        for i in range(num_maquinas):\n",
    "            tiempos_inicio[i].append(x[j][i].x)\n",
    "\n",
    "    fig, ax = plt.subplots(figsize=(10, 6))\n",
    "\n",
    "    colores = plt.cm.get_cmap('tab20', num_tareas)\n",
    "    \n",
    "    # Recorrer cada máquina y mostrar las tareas asignadas en el tiempo\n",
    "    for maquina in range(num_maquinas):\n",
    "        for tarea in range(num_tareas):\n",
    "            inicio_tarea = tiempos_inicio[maquina][tarea]\n",
    "            duracion_tarea = tiempos_procesamiento[tarea][maquina]\n",
    "            \n",
    "            if duracion_tarea > 0:  # Evitamos errores si la tarea no tiene duración\n",
    "                ax.barh(maquina, duracion_tarea, left=inicio_tarea, color=colores(tarea), edgecolor='black')\n",
    "                #etiqueta\n",
    "                ax.text(inicio_tarea + duracion_tarea / 2, maquina, f\"T{tarea+1}\", \n",
    "                        ha='center', va='center', color='white', fontsize=10)\n",
    "    \n",
    "    ax.set_xlabel('Tiempo (UT)')\n",
    "    ax.set_ylabel('Máquinas')\n",
    "    ax.set_yticks(range(num_maquinas))\n",
    "    ax.set_yticklabels([f\"M{m+1}\" for m in range(num_maquinas)])\n",
    "    ax.set_title('Diagrama de Gantt - Tareas por Máquina')\n",
    "    \n",
    "    plt.tight_layout()\n",
    "    plt.show()\n",
    "\n",
    "graficar_gantt(p_ij, M, J)"
   ]
  }
 ],
 "metadata": {
  "kernelspec": {
   "display_name": "Python 3",
   "language": "python",
   "name": "python3"
  },
  "language_info": {
   "codemirror_mode": {
    "name": "ipython",
    "version": 3
   },
   "file_extension": ".py",
   "mimetype": "text/x-python",
   "name": "python",
   "nbconvert_exporter": "python",
   "pygments_lexer": "ipython3",
   "version": "3.12.2"
  }
 },
 "nbformat": 4,
 "nbformat_minor": 2
}
