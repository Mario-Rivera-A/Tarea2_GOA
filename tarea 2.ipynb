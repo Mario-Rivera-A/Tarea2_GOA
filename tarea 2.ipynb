{
 "cells": [
  {
   "cell_type": "code",
   "execution_count": 1,
   "metadata": {},
   "outputs": [],
   "source": [
    "from gurobipy import *\n",
    "import numpy as np\n",
    "import time\n",
    "from collections import defaultdict\n",
    "import matplotlib.pyplot as plt\n",
    "import pandas as pd"
   ]
  },
  {
   "cell_type": "code",
   "execution_count": 4,
   "metadata": {},
   "outputs": [],
   "source": [
    "from scipy.stats import norm\n",
    "import math"
   ]
  },
  {
   "cell_type": "code",
   "execution_count": 5,
   "metadata": {},
   "outputs": [
    {
     "name": "stdout",
     "output_type": "stream",
     "text": [
      "Se deberían aceptar 26 reservas adicionales, teniendo una nueva capacidad total de 226 boletos\n"
     ]
    }
   ],
   "source": [
    "capacidad = 200\n",
    "precio_boleto = 475\n",
    "media_noshow = 30\n",
    "std_noshow = 15\n",
    "compensacion = 800\n",
    "\n",
    "c_u = 475\n",
    "c_o = 800\n",
    "F_Y = c_u/(c_u + c_o)\n",
    "Y = norm.ppf(F_Y, loc=media_noshow, scale=std_noshow)\n",
    "Y = math.ceil(Y)\n",
    "\n",
    "print(f'Se deberían aceptar {Y} reservas adicionales, teniendo una nueva capacidad total de {capacidad + Y} boletos')"
   ]
  },
  {
   "cell_type": "code",
   "execution_count": 7,
   "metadata": {},
   "outputs": [
    {
     "name": "stdout",
     "output_type": "stream",
     "text": [
      "La probabilidad de que se tenga que compensar pasajeros es de 25.24925375469229%\n"
     ]
    }
   ],
   "source": [
    "Y = 20\n",
    "Y_comp = Y - 1 # si 19 personas o menos no se presentan, tendré gente que no podrá subirse al avión\n",
    "z = (Y-media_noshow)/std_noshow\n",
    "F_z = norm.cdf(z)\n",
    "print(f'La probabilidad de que se tenga que compensar pasajeros es de {F_z*100}%')"
   ]
  },
  {
   "cell_type": "code",
   "execution_count": null,
   "metadata": {},
   "outputs": [],
   "source": []
  }
 ],
 "metadata": {
  "kernelspec": {
   "display_name": "Python 3",
   "language": "python",
   "name": "python3"
  },
  "language_info": {
   "codemirror_mode": {
    "name": "ipython",
    "version": 3
   },
   "file_extension": ".py",
   "mimetype": "text/x-python",
   "name": "python",
   "nbconvert_exporter": "python",
   "pygments_lexer": "ipython3",
   "version": "3.9.12"
  }
 },
 "nbformat": 4,
 "nbformat_minor": 2
}
